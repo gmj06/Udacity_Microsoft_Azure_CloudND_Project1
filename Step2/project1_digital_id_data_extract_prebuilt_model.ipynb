{
 "cells": [
  {
   "cell_type": "markdown",
   "metadata": {},
   "source": [
    "### Please install the required Python modules/SDKs"
   ]
  },
  {
   "cell_type": "code",
   "execution_count": 1,
   "metadata": {},
   "outputs": [],
   "source": [
    "! activate ai-azure-c1\n",
    "\n",
    "import sys\n",
    "\n",
    "sys.path.append(\"/opt/conda/envs/ai-azure-c1/lib/python3.8/site-packages\")"
   ]
  },
  {
   "cell_type": "markdown",
   "metadata": {},
   "source": [
    "## Importing Azure Form Recognizer python modules"
   ]
  },
  {
   "cell_type": "code",
   "execution_count": 2,
   "metadata": {},
   "outputs": [],
   "source": [
    "from azure.core.credentials import AzureKeyCredential\n",
    "from azure.ai.formrecognizer import FormRecognizerClient"
   ]
  },
  {
   "cell_type": "code",
   "execution_count": 3,
   "metadata": {},
   "outputs": [],
   "source": [
    "AZURE_FORM_RECOGNIZER_ENDPOINT = \"https://proj1formrecognizer195668.cognitiveservices.azure.com/\"\n",
    "AZURE_FORM_RECOGNIZER_KEY = \"2ab67e45f11d49e49a3cfe41ea09de24\""
   ]
  },
  {
   "cell_type": "code",
   "execution_count": 4,
   "metadata": {},
   "outputs": [],
   "source": [
    "endpoint = AZURE_FORM_RECOGNIZER_ENDPOINT\n",
    "key = AZURE_FORM_RECOGNIZER_KEY"
   ]
  },
  {
   "cell_type": "code",
   "execution_count": 5,
   "metadata": {},
   "outputs": [],
   "source": [
    "form_recognizer_client = FormRecognizerClient(endpoint=endpoint, credential=AzureKeyCredential(key))"
   ]
  },
  {
   "cell_type": "markdown",
   "metadata": {},
   "source": [
    "### Source Document"
   ]
  },
  {
   "cell_type": "code",
   "execution_count": 26,
   "metadata": {},
   "outputs": [],
   "source": [
    "content_url = \"https://proj1blobstorage195668.blob.core.windows.net/project1/digital_id/ca-dl-gowri-chandrashekhar.png\""
   ]
  },
  {
   "cell_type": "code",
   "execution_count": 27,
   "metadata": {},
   "outputs": [],
   "source": [
    "id_content_from_url = form_recognizer_client.begin_recognize_identity_documents_from_url(content_url)"
   ]
  },
  {
   "cell_type": "markdown",
   "metadata": {},
   "source": [
    "### Use the following if your source document is located the local disk"
   ]
  },
  {
   "cell_type": "code",
   "execution_count": 28,
   "metadata": {},
   "outputs": [],
   "source": [
    "collected_id_cards = id_content_from_url.result()"
   ]
  },
  {
   "cell_type": "code",
   "execution_count": 29,
   "metadata": {},
   "outputs": [
    {
     "data": {
      "text/plain": [
       "[RecognizedForm(form_type=prebuilt:idDocument:driverLicense, fields={'Address': FormField(value_type=string, label_data=None, value_data=FieldData(page_number=1, text=5489 SAN VICENTE BLVD LOS ANGELES CA 91019, bounding_box=[Point(x=181.0, y=147.0), Point(x=284.0, y=147.0), Point(x=284.0, y=177.0), Point(x=181.0, y=177.0)], field_elements=None), name=Address, value='5489 SAN VICENTE BLVD LOS ANGELES CA 91019', confidence=0.822), 'CountryRegion': FormField(value_type=countryRegion, label_data=None, value_data=None, name=CountryRegion, value='USA', confidence=0.99), 'DateOfBirth': FormField(value_type=date, label_data=None, value_data=FieldData(page_number=1, text=05/06/1985, bounding_box=[Point(x=212.0, y=180.0), Point(x=270.0, y=179.0), Point(x=270.0, y=190.0), Point(x=213.0, y=192.0)], field_elements=None), name=DateOfBirth, value=datetime.date(1985, 5, 6), confidence=0.995), 'DateOfExpiration': FormField(value_type=date, label_data=None, value_data=FieldData(page_number=1, text=05/06/2025, bounding_box=[Poin]"
      ]
     },
     "execution_count": 29,
     "metadata": {},
     "output_type": "execute_result"
    }
   ],
   "source": [
    "collected_id_cards"
   ]
  },
  {
   "cell_type": "code",
   "execution_count": 30,
   "metadata": {},
   "outputs": [
    {
     "data": {
      "text/plain": [
       "azure.ai.formrecognizer._models.RecognizedForm"
      ]
     },
     "execution_count": 30,
     "metadata": {},
     "output_type": "execute_result"
    }
   ],
   "source": [
    "type(collected_id_cards[0])"
   ]
  },
  {
   "cell_type": "markdown",
   "metadata": {},
   "source": [
    "## Processing the results"
   ]
  },
  {
   "cell_type": "code",
   "execution_count": 31,
   "metadata": {},
   "outputs": [],
   "source": [
    "def get_id_card_details(identity_card):\n",
    "    first_name = identity_card.fields.get(\"FirstName\")\n",
    "    if first_name:\n",
    "        print(\"First Name: {} has confidence: {}\".format(first_name.value, first_name.confidence))\n",
    "    last_name = identity_card.fields.get(\"LastName\")\n",
    "    if last_name:\n",
    "        print(\"Last Name: {} has confidence: {}\".format(last_name.value, last_name.confidence))\n",
    "    document_number = identity_card.fields.get(\"DocumentNumber\")\n",
    "    if document_number:\n",
    "        print(\"Document Number: {} has confidence: {}\".format(document_number.value, document_number.confidence))\n",
    "    dob = identity_card.fields.get(\"DateOfBirth\")\n",
    "    if dob:\n",
    "        print(\"Date of Birth: {} has confidence: {}\".format(dob.value, dob.confidence))\n",
    "    doe = identity_card.fields.get(\"DateOfExpiration\")\n",
    "    if doe:\n",
    "        print(\"Date of Expiration: {} has confidence: {}\".format(doe.value, doe.confidence))\n",
    "    sex = identity_card.fields.get(\"Sex\")\n",
    "    if sex:\n",
    "        print(\"Sex: {} has confidence: {}\".format(sex.value, sex.confidence))\n",
    "    address = identity_card.fields.get(\"Address\")\n",
    "    if address:\n",
    "        print(\"Address: {} has confidence: {}\".format(address.value, address.confidence))\n",
    "    country_region = identity_card.fields.get(\"CountryRegion\")\n",
    "    if country_region:\n",
    "        print(\"Country/Region: {} has confidence: {}\".format(country_region.value, country_region.confidence))\n",
    "    region = identity_card.fields.get(\"Region\")\n",
    "    if region:\n",
    "        print(\"Region: {} has confidence: {}\".format(region.value, region.confidence))"
   ]
  },
  {
   "cell_type": "code",
   "execution_count": 32,
   "metadata": {},
   "outputs": [
    {
     "name": "stdout",
     "output_type": "stream",
     "text": [
      "First Name: GOWRI has confidence: 0.686\n",
      "Last Name: CHANDRASHEKHAR has confidence: 0.838\n",
      "Document Number: F0580639 has confidence: 0.99\n",
      "Date of Birth: 1985-05-06 has confidence: 0.995\n",
      "Date of Expiration: 2025-05-06 has confidence: 0.989\n",
      "Sex: F has confidence: 0.984\n",
      "Address: 5489 SAN VICENTE BLVD LOS ANGELES CA 91019 has confidence: 0.822\n",
      "Country/Region: USA has confidence: 0.99\n",
      "Region: California has confidence: 0.979\n"
     ]
    }
   ],
   "source": [
    "get_id_card_details(collected_id_cards[0])"
   ]
  },
  {
   "cell_type": "code",
   "execution_count": 33,
   "metadata": {},
   "outputs": [
    {
     "name": "stdout",
     "output_type": "stream",
     "text": [
      "Displaying identity card details ....... # 1\n",
      "First Name: GOWRI has confidence: 0.686\n",
      "Last Name: CHANDRASHEKHAR has confidence: 0.838\n",
      "Document Number: F0580639 has confidence: 0.99\n",
      "Date of Birth: 1985-05-06 has confidence: 0.995\n",
      "Date of Expiration: 2025-05-06 has confidence: 0.989\n",
      "Sex: F has confidence: 0.984\n",
      "Address: 5489 SAN VICENTE BLVD LOS ANGELES CA 91019 has confidence: 0.822\n",
      "Country/Region: USA has confidence: 0.99\n",
      "Region: California has confidence: 0.979\n",
      "---------------- EOL -------------------------\n"
     ]
    }
   ],
   "source": [
    "for index_id, id_card in enumerate(collected_id_cards):\n",
    "    print(\"Displaying identity card details ....... # {}\".format(index_id+1))\n",
    "    get_id_card_details(id_card)\n",
    "    print(\"---------------- EOL -------------------------\")"
   ]
  },
  {
   "cell_type": "code",
   "execution_count": null,
   "metadata": {},
   "outputs": [],
   "source": []
  }
 ],
 "metadata": {
  "kernelspec": {
   "display_name": "Python 3",
   "language": "python",
   "name": "python3"
  },
  "language_info": {
   "codemirror_mode": {
    "name": "ipython",
    "version": 3
   },
   "file_extension": ".py",
   "mimetype": "text/x-python",
   "name": "python",
   "nbconvert_exporter": "python",
   "pygments_lexer": "ipython3",
   "version": "3.6.3"
  }
 },
 "nbformat": 4,
 "nbformat_minor": 4
}
